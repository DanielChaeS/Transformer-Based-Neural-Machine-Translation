{
  "nbformat": 4,
  "nbformat_minor": 0,
  "metadata": {
    "colab": {
      "provenance": [],
      "machine_shape": "hm",
      "gpuType": "A100",
      "authorship_tag": "ABX9TyOuiKu7Ee4lROQGEMCWatIJ",
      "include_colab_link": true
    },
    "kernelspec": {
      "name": "python3",
      "display_name": "Python 3"
    },
    "language_info": {
      "name": "python"
    },
    "accelerator": "GPU"
  },
  "cells": [
    {
      "cell_type": "markdown",
      "metadata": {
        "id": "view-in-github",
        "colab_type": "text"
      },
      "source": [
        "<a href=\"https://colab.research.google.com/github/DanielChaeS/Transformer-Based-Neural-Machine-Translation/blob/main/Untitled3.ipynb\" target=\"_parent\"><img src=\"https://colab.research.google.com/assets/colab-badge.svg\" alt=\"Open In Colab\"/></a>"
      ]
    },
    {
      "cell_type": "code",
      "source": [
        "from google.colab import drive\n",
        "drive.mount('/content/drive')"
      ],
      "metadata": {
        "id": "ifpXjO7BZcNB",
        "colab": {
          "base_uri": "https://localhost:8080/"
        },
        "outputId": "828fae28-40d1-4843-a314-447ec872e842"
      },
      "execution_count": null,
      "outputs": [
        {
          "output_type": "stream",
          "name": "stdout",
          "text": [
            "Mounted at /content/drive\n"
          ]
        }
      ]
    },
    {
      "cell_type": "code",
      "source": [
        "!pip install tokenizers datasets pandas tqdm\n"
      ],
      "metadata": {
        "id": "md4GFTedZnJo",
        "colab": {
          "base_uri": "https://localhost:8080/"
        },
        "outputId": "5bac88cd-f128-4417-dc10-6c03cb3e964a"
      },
      "execution_count": null,
      "outputs": [
        {
          "output_type": "stream",
          "name": "stdout",
          "text": [
            "Requirement already satisfied: tokenizers in /usr/local/lib/python3.11/dist-packages (0.21.2)\n",
            "Requirement already satisfied: datasets in /usr/local/lib/python3.11/dist-packages (2.14.4)\n",
            "Requirement already satisfied: pandas in /usr/local/lib/python3.11/dist-packages (2.2.2)\n",
            "Requirement already satisfied: tqdm in /usr/local/lib/python3.11/dist-packages (4.67.1)\n",
            "Requirement already satisfied: huggingface-hub<1.0,>=0.16.4 in /usr/local/lib/python3.11/dist-packages (from tokenizers) (0.33.4)\n",
            "Requirement already satisfied: numpy>=1.17 in /usr/local/lib/python3.11/dist-packages (from datasets) (2.0.2)\n",
            "Requirement already satisfied: pyarrow>=8.0.0 in /usr/local/lib/python3.11/dist-packages (from datasets) (18.1.0)\n",
            "Requirement already satisfied: dill<0.3.8,>=0.3.0 in /usr/local/lib/python3.11/dist-packages (from datasets) (0.3.7)\n",
            "Requirement already satisfied: requests>=2.19.0 in /usr/local/lib/python3.11/dist-packages (from datasets) (2.32.3)\n",
            "Requirement already satisfied: xxhash in /usr/local/lib/python3.11/dist-packages (from datasets) (3.5.0)\n",
            "Requirement already satisfied: multiprocess in /usr/local/lib/python3.11/dist-packages (from datasets) (0.70.15)\n",
            "Requirement already satisfied: fsspec>=2021.11.1 in /usr/local/lib/python3.11/dist-packages (from fsspec[http]>=2021.11.1->datasets) (2025.3.2)\n",
            "Requirement already satisfied: aiohttp in /usr/local/lib/python3.11/dist-packages (from datasets) (3.11.15)\n",
            "Requirement already satisfied: packaging in /usr/local/lib/python3.11/dist-packages (from datasets) (25.0)\n",
            "Requirement already satisfied: pyyaml>=5.1 in /usr/local/lib/python3.11/dist-packages (from datasets) (6.0.2)\n",
            "Requirement already satisfied: python-dateutil>=2.8.2 in /usr/local/lib/python3.11/dist-packages (from pandas) (2.9.0.post0)\n",
            "Requirement already satisfied: pytz>=2020.1 in /usr/local/lib/python3.11/dist-packages (from pandas) (2025.2)\n",
            "Requirement already satisfied: tzdata>=2022.7 in /usr/local/lib/python3.11/dist-packages (from pandas) (2025.2)\n",
            "Requirement already satisfied: aiohappyeyeballs>=2.3.0 in /usr/local/lib/python3.11/dist-packages (from aiohttp->datasets) (2.6.1)\n",
            "Requirement already satisfied: aiosignal>=1.1.2 in /usr/local/lib/python3.11/dist-packages (from aiohttp->datasets) (1.4.0)\n",
            "Requirement already satisfied: attrs>=17.3.0 in /usr/local/lib/python3.11/dist-packages (from aiohttp->datasets) (25.3.0)\n",
            "Requirement already satisfied: frozenlist>=1.1.1 in /usr/local/lib/python3.11/dist-packages (from aiohttp->datasets) (1.7.0)\n",
            "Requirement already satisfied: multidict<7.0,>=4.5 in /usr/local/lib/python3.11/dist-packages (from aiohttp->datasets) (6.6.3)\n",
            "Requirement already satisfied: propcache>=0.2.0 in /usr/local/lib/python3.11/dist-packages (from aiohttp->datasets) (0.3.2)\n",
            "Requirement already satisfied: yarl<2.0,>=1.17.0 in /usr/local/lib/python3.11/dist-packages (from aiohttp->datasets) (1.20.1)\n",
            "Requirement already satisfied: filelock in /usr/local/lib/python3.11/dist-packages (from huggingface-hub<1.0,>=0.16.4->tokenizers) (3.18.0)\n",
            "Requirement already satisfied: typing-extensions>=3.7.4.3 in /usr/local/lib/python3.11/dist-packages (from huggingface-hub<1.0,>=0.16.4->tokenizers) (4.14.1)\n",
            "Requirement already satisfied: hf-xet<2.0.0,>=1.1.2 in /usr/local/lib/python3.11/dist-packages (from huggingface-hub<1.0,>=0.16.4->tokenizers) (1.1.5)\n",
            "Requirement already satisfied: six>=1.5 in /usr/local/lib/python3.11/dist-packages (from python-dateutil>=2.8.2->pandas) (1.17.0)\n",
            "Requirement already satisfied: charset-normalizer<4,>=2 in /usr/local/lib/python3.11/dist-packages (from requests>=2.19.0->datasets) (3.4.2)\n",
            "Requirement already satisfied: idna<4,>=2.5 in /usr/local/lib/python3.11/dist-packages (from requests>=2.19.0->datasets) (3.10)\n",
            "Requirement already satisfied: urllib3<3,>=1.21.1 in /usr/local/lib/python3.11/dist-packages (from requests>=2.19.0->datasets) (2.4.0)\n",
            "Requirement already satisfied: certifi>=2017.4.17 in /usr/local/lib/python3.11/dist-packages (from requests>=2.19.0->datasets) (2025.7.14)\n"
          ]
        }
      ]
    },
    {
      "cell_type": "code",
      "source": [
        "#model.py\n",
        "import torch\n",
        "import torch.nn as nn\n",
        "import math\n",
        "\n",
        "#positional encoding\n",
        "class PositionalEncoding(nn.Module):\n",
        "    def __init__(self, d_model, max_len=5000):\n",
        "        super().__init__()\n",
        "        pe = torch.zeros(max_len, d_model)\n",
        "        position = torch.arange(0, max_len).unsqueeze(1).float()\n",
        "        div_term = torch.exp(torch.arange(0, d_model, 2).float() * (-math.log(10000.0) / d_model))\n",
        "\n",
        "        pe[:, 0::2] = torch.sin(position * div_term)\n",
        "        pe[:, 1::2] = torch.cos(position * div_term)\n",
        "\n",
        "        pe = pe.unsqueeze(0)\n",
        "        self.register_buffer('pe', pe)\n",
        "\n",
        "    def forward(self, x):\n",
        "        return x + self.pe[:, :x.size(1)]\n",
        "\n",
        "#multi-headed attention\n",
        "class MultiHeadAttention(nn.Module):\n",
        "    def __init__(self, d_model, num_heads):\n",
        "        super().__init__()\n",
        "        assert d_model % num_heads == 0\n",
        "        self.head_dim = d_model // num_heads\n",
        "        self.num_heads = num_heads\n",
        "\n",
        "        self.q_proj = nn.Linear(d_model, d_model)\n",
        "        self.k_proj = nn.Linear(d_model, d_model)\n",
        "        self.v_proj = nn.Linear(d_model, d_model)\n",
        "        self.out_proj = nn.Linear(d_model, d_model)\n",
        "\n",
        "    def forward(self, x_q, x_kv, mask=None):\n",
        "        B, T_q, _ = x_q.size()\n",
        "        T_kv = x_kv.size(1)\n",
        "\n",
        "        q = self.q_proj(x_q)\n",
        "        k = self.k_proj(x_kv)\n",
        "        v = self.v_proj(x_kv)\n",
        "\n",
        "        def reshape(x):\n",
        "            return x.view(B, -1, self.num_heads, self.head_dim).transpose(1, 2)\n",
        "\n",
        "        q, k, v = map(reshape, (q, k, v))\n",
        "\n",
        "        attn_weights = (q @ k.transpose(-2, -1)) / (self.head_dim ** 0.5)\n",
        "        if mask is not None:\n",
        "            # Ensure mask dimensions match attention weights\n",
        "            if mask.dim() == 2:\n",
        "                mask = mask.unsqueeze(0).unsqueeze(0)\n",
        "            elif mask.dim() == 3:\n",
        "                mask = mask.unsqueeze(1)\n",
        "            # Broadcast mask to match attention heads\n",
        "            mask = mask.expand(B, self.num_heads, T_q, T_kv)\n",
        "            attn_weights = attn_weights.masked_fill(mask == 0, float('-inf'))\n",
        "\n",
        "        attn = attn_weights.softmax(dim=-1)\n",
        "        out = (attn @ v).transpose(1, 2).contiguous().view(B, T_q, -1)\n",
        "        return self.out_proj(out)\n",
        "\n",
        "\n",
        "#feed forward layer\n",
        "class FeedForward(nn.Module):\n",
        "    def __init__(self, d_model, d_ff):\n",
        "        super().__init__()\n",
        "        self.net = nn.Sequential(\n",
        "            nn.Linear(d_model, d_ff),\n",
        "            nn.ReLU(),\n",
        "            nn.Linear(d_ff, d_model)\n",
        "        )\n",
        "\n",
        "    def forward(self, x):\n",
        "        return self.net(x)\n",
        "\n",
        "#encoder/decoder block\n",
        "class TransformerBlock(nn.Module):\n",
        "    def __init__(self, d_model, num_heads, d_ff, dropout):\n",
        "        super().__init__()\n",
        "        self.attn = MultiHeadAttention(d_model, num_heads)\n",
        "        self.cross_attn = MultiHeadAttention(d_model, num_heads)  # For decoder cross-attention\n",
        "        self.ff = FeedForward(d_model, d_ff)\n",
        "        self.ln1 = nn.LayerNorm(d_model)\n",
        "        self.ln2 = nn.LayerNorm(d_model)\n",
        "        self.ln3 = nn.LayerNorm(d_model)\n",
        "        self.dropout = nn.Dropout(dropout)\n",
        "        self.is_decoder = False\n",
        "\n",
        "    def forward(self, x, context=None, mask=None, cross_mask=None):\n",
        "        # Self attention\n",
        "        attn_out = self.attn(x, x, mask)\n",
        "        x = self.ln1(x + self.dropout(attn_out))\n",
        "\n",
        "        # Cross attention (only for decoder)\n",
        "        if context is not None:\n",
        "            cross_attn_out = self.cross_attn(x, context, cross_mask)\n",
        "            x = self.ln2(x + self.dropout(cross_attn_out))\n",
        "\n",
        "        # Feed forward\n",
        "        ff_out = self.ff(x)\n",
        "        final_ln = self.ln3 if context is not None else self.ln2\n",
        "        x = final_ln(x + self.dropout(ff_out))\n",
        "        return x\n",
        "\n",
        "#encoder and decoder\n",
        "class Encoder(nn.Module):\n",
        "    def __init__(self, vocab_size, d_model, num_layers, num_heads, d_ff, dropout):\n",
        "        super().__init__()\n",
        "        self.embed = nn.Embedding(vocab_size, d_model)\n",
        "        self.pe = PositionalEncoding(d_model)\n",
        "        self.layers = nn.ModuleList([\n",
        "            TransformerBlock(d_model, num_heads, d_ff, dropout) for _ in range(num_layers)\n",
        "        ])\n",
        "\n",
        "    def forward(self, x, mask=None):\n",
        "        x = self.pe(self.embed(x))\n",
        "        for layer in self.layers:\n",
        "            x = layer(x, mask=mask)\n",
        "        return x\n",
        "\n",
        "class Decoder(nn.Module):\n",
        "    def __init__(self, vocab_size, d_model, num_layers, num_heads, d_ff, dropout):\n",
        "        super().__init__()\n",
        "        self.embed = nn.Embedding(vocab_size, d_model)\n",
        "        self.pe = PositionalEncoding(d_model)\n",
        "        self.layers = nn.ModuleList([\n",
        "            TransformerBlock(d_model, num_heads, d_ff, dropout) for _ in range(num_layers)\n",
        "        ])\n",
        "        self.out = nn.Linear(d_model, vocab_size)\n",
        "\n",
        "    def forward(self, x, enc_out, src_mask=None, tgt_mask=None):\n",
        "        x = self.pe(self.embed(x))\n",
        "        for layer in self.layers:\n",
        "            x = layer(x, context=enc_out, mask=tgt_mask, cross_mask=src_mask)\n",
        "        return self.out(x)\n",
        "\n",
        "#transformer model\n",
        "class Transformer(nn.Module):\n",
        "    def __init__(self, src_vocab_size, tgt_vocab_size, d_model=512, num_layers=6, num_heads=8, d_ff=2048, dropout=0.1):\n",
        "        super().__init__()\n",
        "        self.encoder = Encoder(src_vocab_size, d_model, num_layers, num_heads, d_ff, dropout)\n",
        "        self.decoder = Decoder(tgt_vocab_size, d_model, num_layers, num_heads, d_ff, dropout)\n",
        "\n",
        "    def make_subsequent_mask(self, size):\n",
        "        \"\"\"Create a causal mask for self-attention in decoder\"\"\"\n",
        "        mask = torch.triu(torch.ones(size, size), diagonal=1)\n",
        "        return mask == 0  # Return True for allowed positions, False for masked\n",
        "\n",
        "    def make_src_mask(self, src):\n",
        "        \"\"\"Create padding mask for source sequence\"\"\"\n",
        "        # Assuming 0 is the padding token\n",
        "        return (src != 0).unsqueeze(1).unsqueeze(2)\n",
        "\n",
        "    def make_tgt_mask(self, tgt):\n",
        "        \"\"\"Create combined padding and causal mask for target sequence\"\"\"\n",
        "        seq_len = tgt.size(1)\n",
        "        # Padding mask\n",
        "        pad_mask = (tgt != 0).unsqueeze(1).unsqueeze(2)\n",
        "        # Causal mask\n",
        "        causal_mask = self.make_subsequent_mask(seq_len).to(tgt.device)\n",
        "        # Combine masks\n",
        "        return pad_mask & causal_mask\n",
        "\n",
        "    def forward(self, src, tgt, src_mask=None, tgt_mask=None):\n",
        "        if src_mask is None:\n",
        "            src_mask = self.make_src_mask(src)\n",
        "        if tgt_mask is None:\n",
        "            tgt_mask = self.make_tgt_mask(tgt)\n",
        "\n",
        "        enc_out = self.encoder(src, mask=src_mask)\n",
        "        return self.decoder(tgt, enc_out, src_mask, tgt_mask)\n",
        "\n",
        "#inference (greedy decoding)\n",
        "def greedy_decode(model, src, sos_idx, eos_idx, max_len=50):\n",
        "    model.eval()\n",
        "    with torch.no_grad():\n",
        "        if src.dim() == 1:\n",
        "            src = src.unsqueeze(0)\n",
        "\n",
        "        enc_out = model.encoder(src)\n",
        "\n",
        "        tgt = torch.tensor([[sos_idx]], device=src.device)\n",
        "        for _ in range(max_len):\n",
        "            tgt_mask = model.make_tgt_mask(tgt)\n",
        "            out = model.decoder(tgt, enc_out, tgt_mask=tgt_mask)\n",
        "            next_token = out[:, -1, :].argmax(-1, keepdim=True)\n",
        "            tgt = torch.cat([tgt, next_token], dim=1)\n",
        "            if next_token.item() == eos_idx:\n",
        "                break\n",
        "        return tgt.squeeze(0)"
      ],
      "metadata": {
        "id": "mjaVbxwlcQoz"
      },
      "execution_count": null,
      "outputs": []
    },
    {
      "cell_type": "code",
      "source": [
        "#data.py\n",
        "import torch\n",
        "from torch.utils.data import Dataset, DataLoader\n",
        "from tokenizers import Tokenizer\n",
        "import pandas as pd\n",
        "\n",
        "class CSVTranslationDataset(Dataset):\n",
        "    def __init__(self, csv_path, src_tokenizer_path, tgt_tokenizer_path, max_len=64, limit=50000):\n",
        "        # Load and limit the dataset\n",
        "        df = pd.read_csv(\"/content/drive/MyDrive/korean_transformer/opensubs_ko_en.csv\").dropna()\n",
        "        self.data = list(zip(df[\"korean\"][:limit], df[\"english\"][:limit]))\n",
        "\n",
        "        # Load tokenizers\n",
        "        self.src_tokenizer = Tokenizer.from_file(src_tokenizer_path)\n",
        "        self.tgt_tokenizer = Tokenizer.from_file(tgt_tokenizer_path)\n",
        "\n",
        "        self.max_len = max_len\n",
        "\n",
        "    def encode(self, text, tokenizer):\n",
        "        ids = tokenizer.encode(text).ids[:self.max_len - 2]\n",
        "        return [tokenizer.token_to_id(\"<sos>\")] + ids + [tokenizer.token_to_id(\"<eos>\")]\n",
        "\n",
        "    def pad(self, ids, pad_id):\n",
        "        return ids + [pad_id] * (self.max_len - len(ids))\n",
        "\n",
        "    def __getitem__(self, idx):\n",
        "        src, tgt = self.data[idx]\n",
        "\n",
        "        src_ids = self.encode(src, self.src_tokenizer)\n",
        "        tgt_ids = self.encode(tgt, self.tgt_tokenizer)\n",
        "\n",
        "        return {\n",
        "            \"src\": torch.tensor(self.pad(src_ids, self.src_tokenizer.token_to_id(\"<pad>\")), dtype=torch.long),\n",
        "            \"tgt\": torch.tensor(self.pad(tgt_ids, self.tgt_tokenizer.token_to_id(\"<pad>\")), dtype=torch.long)\n",
        "        }\n",
        "\n",
        "    def __len__(self):\n",
        "        return len(self.data)\n",
        "\n",
        "\n",
        "def get_dataloader(csv_path, src_tokenizer_path, tgt_tokenizer_path,\n",
        "                   batch_size=32, max_len=64, limit=50000, split=\"train\"):\n",
        "    df = pd.read_csv(\"/content/drive/MyDrive/korean_transformer/opensubs_ko_en.csv\").dropna().reset_index(drop=True)\n",
        "\n",
        "    if split == \"train\":\n",
        "        df = df[:int(0.9 * limit)]  # first 90%\n",
        "    elif split == \"val\":\n",
        "        df = df[int(0.9 * limit):limit]  # last 10%\n",
        "\n",
        "    dataset = CSVTranslationDataset(\n",
        "        csv_path=None,\n",
        "        src_tokenizer_path=src_tokenizer_path,\n",
        "        tgt_tokenizer_path=tgt_tokenizer_path,\n",
        "        max_len=max_len,\n",
        "        limit=len(df)\n",
        "    )\n",
        "    dataset.data = list(zip(df[\"korean\"], df[\"english\"]))  # manually override\n",
        "\n",
        "    return DataLoader(dataset, batch_size=batch_size, shuffle=(split == \"train\"))"
      ],
      "metadata": {
        "id": "BrAhZYhvcX2A"
      },
      "execution_count": null,
      "outputs": []
    },
    {
      "cell_type": "code",
      "source": [
        "#utils.py\n",
        "def greedy_decode(model, src, sos_idx, eos_idx, max_len=50):\n",
        "    model.eval()\n",
        "    src = src.cuda()\n",
        "    enc_out = model.encoder(src)\n",
        "\n",
        "    tgt = torch.tensor([[sos_idx]], device=src.device)\n",
        "    for _ in range(max_len):\n",
        "        out = model.decoder(tgt, enc_out)\n",
        "        next_token = out[:, -1, :].argmax(-1, keepdim=True)\n",
        "        tgt = torch.cat([tgt, next_token], dim=1)\n",
        "        if next_token.item() == eos_idx:\n",
        "            break\n",
        "    return tgt.squeeze(0)[1:]"
      ],
      "metadata": {
        "id": "Q1j7NMetcdNT"
      },
      "execution_count": null,
      "outputs": []
    },
    {
      "cell_type": "code",
      "source": [
        "#train.py\n",
        "import torch\n",
        "import torch.nn as nn\n",
        "import torch.optim as optim\n",
        "from tqdm import tqdm #progrss bars\n",
        "from tokenizers import Tokenizer\n",
        "\n",
        "device = torch.device(\"cuda\" if torch.cuda.is_available() else \"cpu\")\n",
        "\n",
        "SRC_VOCAB_SIZE = 32000\n",
        "TGT_VOCAB_SIZE = 32000\n",
        "\n",
        "\n",
        "ko_tokenizer = Tokenizer.from_file(\"/content/drive/MyDrive/korean_transformer/korean-tokenizer.json\")\n",
        "PAD_IDX = ko_tokenizer.token_to_id(\"<pad>\")\n",
        "\n",
        "model = Transformer(\n",
        "    src_vocab_size=SRC_VOCAB_SIZE,\n",
        "    tgt_vocab_size=TGT_VOCAB_SIZE,\n",
        "    d_model=256,\n",
        "    num_layers=2,\n",
        "    num_heads=4,\n",
        "    d_ff=1024,\n",
        "    dropout=0.1\n",
        ").to(device)\n",
        "\n",
        "optimizer = optim.Adam(model.parameters(), lr=0.0001)\n",
        "criterion = nn.CrossEntropyLoss(ignore_index=PAD_IDX)\n",
        "\n",
        "train_loader = get_dataloader(\n",
        "    csv_path=\"/content/drive/MyDrive/korean_transformer/opensubs_ko_en.csv\",\n",
        "    src_tokenizer_path=\"/content/drive/MyDrive/korean_transformer/korean-tokenizer.json\",\n",
        "    tgt_tokenizer_path=\"/content/drive/MyDrive/korean_transformer/english-tokenizer.json\",\n",
        "    batch_size=32,\n",
        "    max_len=64,\n",
        "    limit=50000,\n",
        "    split=\"train\"\n",
        ")\n",
        "\n",
        "val_loader = get_dataloader(\n",
        "    csv_path=\"/content/drive/MyDrive/korean_transformer/opensubs_ko_en.csv\",\n",
        "    src_tokenizer_path=\"/content/drive/MyDrive/korean_transformer/korean-tokenizer.json\",\n",
        "    tgt_tokenizer_path=\"/content/drive/MyDrive/korean_transformer/english-tokenizer.json\",\n",
        "    batch_size=32,\n",
        "    max_len=64,\n",
        "    limit=50000,\n",
        "    split=\"val\"\n",
        ")\n",
        "\n",
        "def validate_model(model, val_loader, criterion, device):\n",
        "    \"\"\"Evaluate the model on validation set\"\"\"\n",
        "    model.eval()\n",
        "    total_val_loss = 0\n",
        "    num_batches = 0\n",
        "\n",
        "    with torch.no_grad():\n",
        "        for batch in val_loader:\n",
        "            src = batch['src'].to(device)\n",
        "            tgt = batch['tgt'].to(device)\n",
        "\n",
        "            tgt_input = tgt[:, :-1]\n",
        "            tgt_output = tgt[:, 1:]\n",
        "\n",
        "            logits = model(src, tgt_input)\n",
        "            loss = criterion(logits.reshape(-1, logits.size(-1)), tgt_output.reshape(-1))\n",
        "\n",
        "            total_val_loss += loss.item()\n",
        "            num_batches += 1\n",
        "\n",
        "    return total_val_loss / num_batches\n",
        "\n",
        "# Training loop with validation\n",
        "best_val_loss = float('inf')\n",
        "patience = 3\n",
        "patience_counter = 0\n",
        "\n",
        "for epoch in range(10):\n",
        "    # Training phase\n",
        "    model.train()\n",
        "    total_train_loss = 0\n",
        "\n",
        "    for batch in tqdm(train_loader, desc=f\"Training Epoch {epoch + 1}\"):\n",
        "        src = batch['src'].to(device)\n",
        "        tgt = batch['tgt'].to(device)\n",
        "\n",
        "        tgt_input = tgt[:, :-1]\n",
        "        tgt_output = tgt[:, 1:]\n",
        "\n",
        "        logits = model(src, tgt_input)\n",
        "        loss = criterion(logits.reshape(-1, logits.size(-1)), tgt_output.reshape(-1))\n",
        "\n",
        "        optimizer.zero_grad()\n",
        "        loss.backward()\n",
        "        optimizer.step()\n",
        "        total_train_loss += loss.item()\n",
        "\n",
        "    # Validation phase\n",
        "    val_loss = validate_model(model, val_loader, criterion, device)\n",
        "\n",
        "    # Calculate average losses\n",
        "    avg_train_loss = total_train_loss / len(train_loader)\n",
        "\n",
        "    print(f\"Epoch {epoch + 1}:\")\n",
        "    print(f\"  Train Loss: {avg_train_loss:.4f}\")\n",
        "    print(f\"  Val Loss: {val_loss:.4f}\")\n",
        "\n",
        "    # Early stopping logic\n",
        "    if val_loss < best_val_loss:\n",
        "        best_val_loss = val_loss\n",
        "        patience_counter = 0\n",
        "        # Save the best model\n",
        "        torch.save(model.state_dict(), \"/content/drive/MyDrive/korean_transformer/best_model.pth\")\n",
        "        print(\"  ✅ New best model saved!\")\n",
        "    else:\n",
        "        patience_counter += 1\n",
        "        print(f\"  No improvement. Patience: {patience_counter}/{patience}\")\n",
        "\n",
        "        if patience_counter >= patience:\n",
        "            print(\"  Early stopping triggered!\")\n",
        "            break\n",
        "\n",
        "    print(\"-\" * 50)\n",
        "\n",
        "# Save the final model\n",
        "torch.save(model.state_dict(), \"/content/drive/MyDrive/korean_transformer/final_model.pth\")\n",
        "print(\"✅ Final model saved to Drive!\")\n"
      ],
      "metadata": {
        "colab": {
          "base_uri": "https://localhost:8080/"
        },
        "id": "MJQHxIRicev6",
        "outputId": "f4c23320-04f5-415d-b977-9151ce799884"
      },
      "execution_count": null,
      "outputs": [
        {
          "output_type": "stream",
          "name": "stderr",
          "text": [
            "Training Epoch 1: 100%|██████████| 1407/1407 [00:37<00:00, 37.50it/s]\n"
          ]
        },
        {
          "output_type": "stream",
          "name": "stdout",
          "text": [
            "Epoch 1:\n",
            "  Train Loss: 5.1195\n",
            "  Val Loss: 4.3727\n",
            "  ✅ New best model saved!\n",
            "--------------------------------------------------\n"
          ]
        },
        {
          "output_type": "stream",
          "name": "stderr",
          "text": [
            "Training Epoch 2: 100%|██████████| 1407/1407 [00:33<00:00, 41.49it/s]\n"
          ]
        },
        {
          "output_type": "stream",
          "name": "stdout",
          "text": [
            "Epoch 2:\n",
            "  Train Loss: 4.2866\n",
            "  Val Loss: 4.1750\n",
            "  ✅ New best model saved!\n",
            "--------------------------------------------------\n"
          ]
        },
        {
          "output_type": "stream",
          "name": "stderr",
          "text": [
            "Training Epoch 3: 100%|██████████| 1407/1407 [00:33<00:00, 41.60it/s]\n"
          ]
        },
        {
          "output_type": "stream",
          "name": "stdout",
          "text": [
            "Epoch 3:\n",
            "  Train Loss: 4.0187\n",
            "  Val Loss: 4.0844\n",
            "  ✅ New best model saved!\n",
            "--------------------------------------------------\n"
          ]
        },
        {
          "output_type": "stream",
          "name": "stderr",
          "text": [
            "Training Epoch 4: 100%|██████████| 1407/1407 [00:34<00:00, 41.30it/s]\n"
          ]
        },
        {
          "output_type": "stream",
          "name": "stdout",
          "text": [
            "Epoch 4:\n",
            "  Train Loss: 3.8229\n",
            "  Val Loss: 4.0418\n",
            "  ✅ New best model saved!\n",
            "--------------------------------------------------\n"
          ]
        },
        {
          "output_type": "stream",
          "name": "stderr",
          "text": [
            "Training Epoch 5: 100%|██████████| 1407/1407 [00:33<00:00, 41.42it/s]\n"
          ]
        },
        {
          "output_type": "stream",
          "name": "stdout",
          "text": [
            "Epoch 5:\n",
            "  Train Loss: 3.6542\n",
            "  Val Loss: 4.0081\n",
            "  ✅ New best model saved!\n",
            "--------------------------------------------------\n"
          ]
        },
        {
          "output_type": "stream",
          "name": "stderr",
          "text": [
            "Training Epoch 6: 100%|██████████| 1407/1407 [00:34<00:00, 41.27it/s]\n"
          ]
        },
        {
          "output_type": "stream",
          "name": "stdout",
          "text": [
            "Epoch 6:\n",
            "  Train Loss: 3.5004\n",
            "  Val Loss: 3.9989\n",
            "  ✅ New best model saved!\n",
            "--------------------------------------------------\n"
          ]
        },
        {
          "output_type": "stream",
          "name": "stderr",
          "text": [
            "Training Epoch 7: 100%|██████████| 1407/1407 [00:33<00:00, 41.45it/s]\n"
          ]
        },
        {
          "output_type": "stream",
          "name": "stdout",
          "text": [
            "Epoch 7:\n",
            "  Train Loss: 3.3545\n",
            "  Val Loss: 4.0114\n",
            "  No improvement. Patience: 1/3\n",
            "--------------------------------------------------\n"
          ]
        },
        {
          "output_type": "stream",
          "name": "stderr",
          "text": [
            "Training Epoch 8: 100%|██████████| 1407/1407 [00:33<00:00, 41.62it/s]\n"
          ]
        },
        {
          "output_type": "stream",
          "name": "stdout",
          "text": [
            "Epoch 8:\n",
            "  Train Loss: 3.2106\n",
            "  Val Loss: 4.0238\n",
            "  No improvement. Patience: 2/3\n",
            "--------------------------------------------------\n"
          ]
        },
        {
          "output_type": "stream",
          "name": "stderr",
          "text": [
            "Training Epoch 9: 100%|██████████| 1407/1407 [00:33<00:00, 41.56it/s]\n"
          ]
        },
        {
          "output_type": "stream",
          "name": "stdout",
          "text": [
            "Epoch 9:\n",
            "  Train Loss: 3.0733\n",
            "  Val Loss: 4.0732\n",
            "  No improvement. Patience: 3/3\n",
            "  Early stopping triggered!\n",
            "✅ Final model saved to Drive!\n"
          ]
        }
      ]
    },
    {
      "cell_type": "markdown",
      "source": [
        "it's bleu eval time!"
      ],
      "metadata": {
        "id": "NY2a3BSamFU5"
      }
    },
    {
      "cell_type": "code",
      "source": [
        "!pip install nltk\n",
        "import nltk\n",
        "nltk.download('punkt')\n"
      ],
      "metadata": {
        "colab": {
          "base_uri": "https://localhost:8080/"
        },
        "id": "3bwcQoqJmGas",
        "outputId": "531146cb-71b3-4d8e-a978-af841d7f97be"
      },
      "execution_count": null,
      "outputs": [
        {
          "output_type": "stream",
          "name": "stdout",
          "text": [
            "Requirement already satisfied: nltk in /usr/local/lib/python3.11/dist-packages (3.9.1)\n",
            "Requirement already satisfied: click in /usr/local/lib/python3.11/dist-packages (from nltk) (8.2.1)\n",
            "Requirement already satisfied: joblib in /usr/local/lib/python3.11/dist-packages (from nltk) (1.5.1)\n",
            "Requirement already satisfied: regex>=2021.8.3 in /usr/local/lib/python3.11/dist-packages (from nltk) (2024.11.6)\n",
            "Requirement already satisfied: tqdm in /usr/local/lib/python3.11/dist-packages (from nltk) (4.67.1)\n"
          ]
        },
        {
          "output_type": "stream",
          "name": "stderr",
          "text": [
            "[nltk_data] Downloading package punkt to /root/nltk_data...\n",
            "[nltk_data]   Unzipping tokenizers/punkt.zip.\n"
          ]
        },
        {
          "output_type": "execute_result",
          "data": {
            "text/plain": [
              "True"
            ]
          },
          "metadata": {},
          "execution_count": 16
        }
      ]
    },
    {
      "cell_type": "code",
      "metadata": {
        "colab": {
          "base_uri": "https://localhost:8080/"
        },
        "id": "e865abf7",
        "outputId": "fb9b966e-b591-44d8-8a4e-8b5f176bd52b"
      },
      "source": [
        "import nltk\n",
        "nltk.download('punkt_tab')"
      ],
      "execution_count": null,
      "outputs": [
        {
          "output_type": "stream",
          "name": "stderr",
          "text": [
            "[nltk_data] Downloading package punkt_tab to /root/nltk_data...\n",
            "[nltk_data]   Unzipping tokenizers/punkt_tab.zip.\n"
          ]
        },
        {
          "output_type": "execute_result",
          "data": {
            "text/plain": [
              "True"
            ]
          },
          "metadata": {},
          "execution_count": 23
        }
      ]
    },
    {
      "cell_type": "code",
      "source": [
        "from nltk.translate.bleu_score import corpus_bleu\n",
        "\n",
        "def run_bleu_eval(model, val_loader, tokenizer_src, tokenizer_tgt, sos_idx, eos_idx, max_samples=100):\n",
        "    model.eval()\n",
        "    preds = []\n",
        "    refs = []\n",
        "\n",
        "    with torch.no_grad():\n",
        "        for i, batch in enumerate(val_loader):\n",
        "            if i >= max_samples:\n",
        "                break\n",
        "            src = batch['src'].to(device)\n",
        "            tgt = batch['tgt'].to(device)\n",
        "\n",
        "            for j in range(src.size(0)):\n",
        "                input_ids = src[j].unsqueeze(0)\n",
        "\n",
        "                # Decode prediction\n",
        "                output_ids = greedy_decode(model, input_ids, sos_idx, eos_idx)\n",
        "                pred = tokenizer_tgt.decode(output_ids.tolist(), skip_special_tokens=True)\n",
        "\n",
        "                # Reference\n",
        "                ref_ids = tgt[j].tolist()\n",
        "                ref = tokenizer_tgt.decode(ref_ids, skip_special_tokens=True)\n",
        "\n",
        "                # Tokenize (BLEU expects lists of tokens)\n",
        "                preds.append(nltk.word_tokenize(pred))\n",
        "                refs.append([nltk.word_tokenize(ref)])\n",
        "\n",
        "    bleu = corpus_bleu(refs, preds) * 100\n",
        "    print(f\"🔍 BLEU Score: {bleu:.2f}\")\n",
        "    return bleu\n"
      ],
      "metadata": {
        "id": "G7eT90zumOrR"
      },
      "execution_count": null,
      "outputs": []
    },
    {
      "cell_type": "code",
      "metadata": {
        "colab": {
          "base_uri": "https://localhost:8080/"
        },
        "id": "9ad0df43",
        "outputId": "b520313c-6491-4856-c2ed-a56810fab3f7"
      },
      "source": [
        "# Load your model\n",
        "model = Transformer(\n",
        "    src_vocab_size=SRC_VOCAB_SIZE,\n",
        "    tgt_vocab_size=TGT_VOCAB_SIZE,\n",
        "    d_model=256,\n",
        "    num_layers=2,\n",
        "    num_heads=4,\n",
        "    d_ff=1024,\n",
        "    dropout=0.1\n",
        ").to(device)\n",
        "\n",
        "model.load_state_dict(torch.load(\"/content/drive/MyDrive/korean_transformer/best_model.pth\"))\n",
        "model.eval()\n",
        "\n",
        "# Load tokenizers\n",
        "from tokenizers import Tokenizer\n",
        "ko_tokenizer = Tokenizer.from_file(\"/content/drive/MyDrive/korean_transformer/korean-tokenizer.json\")\n",
        "en_tokenizer = Tokenizer.from_file(\"/content/drive/MyDrive/korean_transformer/english-tokenizer.json\")\n",
        "\n",
        "sos_idx = en_tokenizer.token_to_id(\"<sos>\")\n",
        "eos_idx = en_tokenizer.token_to_id(\"<eos>\")\n",
        "\n",
        "# Load val loader\n",
        "val_loader = get_dataloader(\n",
        "    csv_path='/content/drive/MyDrive/korean_transformer/opensubs_ko_en.csv',\n",
        "    src_tokenizer_path=\"/content/drive/MyDrive/korean_transformer/korean-tokenizer.json\",\n",
        "    tgt_tokenizer_path=\"/content/drive/MyDrive/korean_transformer/english-tokenizer.json\",\n",
        "    split=\"val\",\n",
        "    limit=50000,\n",
        "    batch_size=8\n",
        ")\n",
        "\n",
        "# Run BLEU\n",
        "run_bleu_eval(model, val_loader, ko_tokenizer, en_tokenizer, sos_idx, eos_idx, max_samples=100)"
      ],
      "execution_count": null,
      "outputs": [
        {
          "output_type": "stream",
          "name": "stdout",
          "text": [
            "🔍 BLEU Score: 0.30\n"
          ]
        },
        {
          "output_type": "execute_result",
          "data": {
            "text/plain": [
              "0.30006014442759665"
            ]
          },
          "metadata": {},
          "execution_count": 24
        }
      ]
    }
  ]
}
